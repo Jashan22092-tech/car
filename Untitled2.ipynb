{
  "nbformat": 4,
  "nbformat_minor": 0,
  "metadata": {
    "colab": {
      "provenance": [],
      "authorship_tag": "ABX9TyM6ABzwwtltfHislZ6r1f6M",
      "include_colab_link": true
    },
    "kernelspec": {
      "name": "python3",
      "display_name": "Python 3"
    },
    "language_info": {
      "name": "python"
    }
  },
  "cells": [
    {
      "cell_type": "markdown",
      "metadata": {
        "id": "view-in-github",
        "colab_type": "text"
      },
      "source": [
        "<a href=\"https://colab.research.google.com/github/Jashan22092-tech/car/blob/main/Untitled2.ipynb\" target=\"_parent\"><img src=\"https://colab.research.google.com/assets/colab-badge.svg\" alt=\"Open In Colab\"/></a>"
      ]
    },
    {
      "cell_type": "code",
      "execution_count": 1,
      "metadata": {
        "id": "99BTKuD7zaiC"
      },
      "outputs": [],
      "source": [
        "import pandas as pd\n",
        "import numpy as np\n",
        "\n",
        "from sklearn.model_selection import train_test_split\n",
        "from sklearn.linear_model import LinearRegression"
      ]
    },
    {
      "cell_type": "code",
      "source": [
        "cars_data = pd.read_csv('Cardetails.csv')"
      ],
      "metadata": {
        "id": "4fdM4ZzP7gie"
      },
      "execution_count": null,
      "outputs": []
    },
    {
      "cell_type": "code",
      "source": [
        "cars_data.head()"
      ],
      "metadata": {
        "collapsed": true,
        "id": "OnqyzXaM9JJR"
      },
      "execution_count": null,
      "outputs": []
    },
    {
      "cell_type": "code",
      "source": [
        "cars_data.drop(columns=['torque'], inplace=True)"
      ],
      "metadata": {
        "id": "Z6Oiamfs9Ri8"
      },
      "execution_count": null,
      "outputs": []
    },
    {
      "cell_type": "code",
      "source": [
        "cars_data.head()"
      ],
      "metadata": {
        "id": "n0kcSQpH9Rt0"
      },
      "execution_count": null,
      "outputs": []
    },
    {
      "cell_type": "code",
      "source": [
        "cars_data.shape"
      ],
      "metadata": {
        "id": "h9AfsGIf92fk"
      },
      "execution_count": null,
      "outputs": []
    },
    {
      "cell_type": "markdown",
      "source": [
        "PREPROCESSING"
      ],
      "metadata": {
        "id": "_8cUu0lV-AQ-"
      }
    },
    {
      "cell_type": "code",
      "source": [
        "#NULL CHECK\n",
        "\n",
        "cars_data.isnull().sum()"
      ],
      "metadata": {
        "collapsed": true,
        "id": "oTkEZtNl-CzH"
      },
      "execution_count": null,
      "outputs": []
    },
    {
      "cell_type": "code",
      "source": [
        "# REMOVED NULL VALUES FROM THE AIN DATA SET\n",
        "cars_data.dropna(inplace=True)"
      ],
      "metadata": {
        "id": "F21su-Qh-OK5"
      },
      "execution_count": null,
      "outputs": []
    },
    {
      "cell_type": "code",
      "source": [
        "cars_data.shape"
      ],
      "metadata": {
        "id": "m5YlpOU3-gS0"
      },
      "execution_count": null,
      "outputs": []
    },
    {
      "cell_type": "code",
      "source": [
        "# DUPLICATE CHECK\n",
        "cars_data.duplicated().sum()"
      ],
      "metadata": {
        "id": "Y9Y3HQxe-le1"
      },
      "execution_count": null,
      "outputs": []
    },
    {
      "cell_type": "code",
      "source": [
        "# DROP DUPLICATES\n",
        "cars_data.drop_duplicates(inplace = True)"
      ],
      "metadata": {
        "id": "X4Z_-imu-vyv"
      },
      "execution_count": null,
      "outputs": []
    },
    {
      "cell_type": "code",
      "source": [
        "cars_data.shape"
      ],
      "metadata": {
        "id": "-ljzTkNT-6ja"
      },
      "execution_count": null,
      "outputs": []
    },
    {
      "cell_type": "code",
      "source": [
        "cars_data.info()"
      ],
      "metadata": {
        "collapsed": true,
        "id": "-XhKjMHu-6Dk"
      },
      "execution_count": null,
      "outputs": []
    },
    {
      "cell_type": "markdown",
      "source": [
        "DATA ANALYSIS"
      ],
      "metadata": {
        "id": "MGGG2vJY_Gzl"
      }
    },
    {
      "cell_type": "code",
      "source": [
        "for col in cars_data.columns:\n",
        "  print('Unique values of '+ col)\n",
        "  print(cars_data[col].unique())\n",
        "  print(\"================\")"
      ],
      "metadata": {
        "collapsed": true,
        "id": "YLq-fgJx_JEU"
      },
      "execution_count": null,
      "outputs": []
    },
    {
      "cell_type": "code",
      "source": [
        "def get_brand_name(car_name):\n",
        "  car_name = car_name.split(\" \")[0] # we wrote index 0 as every car name has brand at first\n",
        "  return car_name.strip() # used strip to remove extra spaces"
      ],
      "metadata": {
        "id": "KC-gFvN6API5"
      },
      "execution_count": null,
      "outputs": []
    },
    {
      "cell_type": "code",
      "source": [
        "def clean_data(value):\n",
        "  value = value.split('')[0]\n",
        "  value = (value.strip())\n",
        "  if value == '':\n",
        "    value = 0\n",
        "  return float(value)\n"
      ],
      "metadata": {
        "id": "mBrIxwxYYCuV"
      },
      "execution_count": null,
      "outputs": []
    },
    {
      "cell_type": "markdown",
      "source": [],
      "metadata": {
        "id": "W57yZhe8ZAvc"
      }
    },
    {
      "cell_type": "code",
      "source": [
        "get_brand_name(\"Maruti Swift Dezire VDI\")"
      ],
      "metadata": {
        "collapsed": true,
        "id": "k-sb-6kXA_Kk"
      },
      "execution_count": null,
      "outputs": []
    },
    {
      "cell_type": "code",
      "source": [
        "cars_data['name'] = cars_data['name'].apply(get_brand_name)"
      ],
      "metadata": {
        "id": "-sqGXfTwBTJ_"
      },
      "execution_count": null,
      "outputs": []
    },
    {
      "cell_type": "code",
      "source": [
        "cars_data['name'].unique()"
      ],
      "metadata": {
        "collapsed": true,
        "id": "gfEwUJVLBjCi"
      },
      "execution_count": null,
      "outputs": []
    },
    {
      "cell_type": "code",
      "source": [
        "cars_data['mileage'] = cars_data['mileage'].apply(get_brand_name)"
      ],
      "metadata": {
        "id": "ddtq_kEsByuC"
      },
      "execution_count": null,
      "outputs": []
    },
    {
      "cell_type": "code",
      "source": [
        "cars_data['max_power'] = cars_data['max_power'].apply(get_brand_name)"
      ],
      "metadata": {
        "id": "1JR25qZtCDIC"
      },
      "execution_count": null,
      "outputs": []
    },
    {
      "cell_type": "code",
      "source": [
        "cars_data['engine'] = cars_data['engine'].apply(get_brand_name)"
      ],
      "metadata": {
        "id": "mqEkq_BHCPY8"
      },
      "execution_count": null,
      "outputs": []
    },
    {
      "cell_type": "code",
      "source": [
        "for col in cars_data.columns:\n",
        "  print('Unique values of '+ col)\n",
        "  print(cars_data[col].unique())\n",
        "  print(\"================\")"
      ],
      "metadata": {
        "collapsed": true,
        "id": "Ty6nMiYACYaU"
      },
      "execution_count": null,
      "outputs": []
    },
    {
      "cell_type": "code",
      "source": [
        "cars_data['name'].replace(['Maruti','Skoda','Honda','Hyundai','Toyota','Ford','Renault','Mahindra',\n",
        "'Tata','Chevrolet','Datsun','Jeep','Mercedes-Benz','Mitsubishi','Audi',\n",
        "'Volkswagen','BMW','Nissan','Lexus','Jaguar','Land','MG','Volvo','Daewoo',\n",
        "'Kia','Fiat','Force','Ambassador','Ashok','Isuzu','Opel'],\n",
        "                          [1, 2, 3, 4, 5, 6, 7, 8, 9, 10, 11, 12, 13, 14, 15, 16, 17, 18, 19, 20,\n",
        " 21, 22, 23, 24, 25, 26, 27, 28, 29, 30, 31]\n",
        "                          ,inplace=True)"
      ],
      "metadata": {
        "id": "9GZ9Z_BLCxlr"
      },
      "execution_count": null,
      "outputs": []
    },
    {
      "cell_type": "code",
      "source": [
        "cars_data['transmission'].unique()"
      ],
      "metadata": {
        "id": "5qVDXPJ-Ebas"
      },
      "execution_count": null,
      "outputs": []
    },
    {
      "cell_type": "code",
      "source": [
        "cars_data['transmission'].replace(['Manual', 'Automatic'],[1,2],inplace=True)"
      ],
      "metadata": {
        "id": "G-79ufNlEtnl"
      },
      "execution_count": null,
      "outputs": []
    },
    {
      "cell_type": "code",
      "source": [
        "cars_data['seller_type'].unique()"
      ],
      "metadata": {
        "id": "Tib68_NpFASC"
      },
      "execution_count": null,
      "outputs": []
    },
    {
      "cell_type": "code",
      "source": [
        "cars_data['seller_type'].replace(['Individual', 'Dealer', 'Trustmark Dealer'],[1,2,3],inplace=True)"
      ],
      "metadata": {
        "id": "dKqe7cX5FHCS"
      },
      "execution_count": null,
      "outputs": []
    },
    {
      "cell_type": "code",
      "source": [
        "cars_data['fuel'].unique()"
      ],
      "metadata": {
        "id": "lZB5sGCxFZBk"
      },
      "execution_count": null,
      "outputs": []
    },
    {
      "cell_type": "code",
      "source": [
        "cars_data['fuel'].replace(['Diesel', 'Petrol', 'LPG', 'CNG'],[1,2,3,4],inplace=True)"
      ],
      "metadata": {
        "id": "0cOPSiCOFeIC"
      },
      "execution_count": null,
      "outputs": []
    },
    {
      "cell_type": "code",
      "source": [
        "cars_data.info()"
      ],
      "metadata": {
        "collapsed": true,
        "id": "WwlFi8-SFyEI"
      },
      "execution_count": null,
      "outputs": []
    },
    {
      "cell_type": "code",
      "source": [
        "cars_data.reset_index(inplace=True)"
      ],
      "metadata": {
        "id": "PNHYjOXBIr1t"
      },
      "execution_count": null,
      "outputs": []
    },
    {
      "cell_type": "code",
      "source": [
        "cars_data"
      ],
      "metadata": {
        "collapsed": true,
        "id": "2IQbbcGaJEyt"
      },
      "execution_count": null,
      "outputs": []
    },
    {
      "cell_type": "code",
      "source": [
        "cars_data['owner'].unique()"
      ],
      "metadata": {
        "id": "wDxHgWjfJMel"
      },
      "execution_count": null,
      "outputs": []
    },
    {
      "cell_type": "code",
      "source": [
        "cars_data['owner'].replace(['First Owner', 'Second Owner', 'Third Owner',\n",
        "       'Fourth & Above Owner', 'Test Drive Car'],[1,2,3,4,5],inplace=True)"
      ],
      "metadata": {
        "id": "C-DPYKPsJSLI"
      },
      "execution_count": null,
      "outputs": []
    },
    {
      "cell_type": "code",
      "source": [
        "cars_data.drop(columns=['index'],inplace=True)"
      ],
      "metadata": {
        "id": "mLRfK5DmJlX2"
      },
      "execution_count": null,
      "outputs": []
    },
    {
      "cell_type": "code",
      "source": [
        "cars_data"
      ],
      "metadata": {
        "id": "EyDo9fK0J0KK"
      },
      "execution_count": null,
      "outputs": []
    },
    {
      "cell_type": "code",
      "source": [
        "input_data = cars_data.drop(columns=['selling_price'])\n",
        "output_data = cars_data['selling_price']"
      ],
      "metadata": {
        "id": "bufVRCBCJ8_S"
      },
      "execution_count": null,
      "outputs": []
    },
    {
      "cell_type": "markdown",
      "source": [],
      "metadata": {
        "id": "Lt5tK8YeKe97"
      }
    },
    {
      "cell_type": "markdown",
      "source": [
        "TEST AND TRAIN"
      ],
      "metadata": {
        "id": "k9YPaNc-Ke_S"
      }
    },
    {
      "cell_type": "code",
      "source": [
        "x_train, x_test, y_train, y_test = train_test_split(input_data, output_data, test_size=0.2)"
      ],
      "metadata": {
        "id": "53DanvAnKgMj"
      },
      "execution_count": null,
      "outputs": []
    },
    {
      "cell_type": "markdown",
      "source": [
        "MODEL CREATION"
      ],
      "metadata": {
        "id": "QfbFfPAKLv8U"
      }
    },
    {
      "cell_type": "code",
      "source": [
        "model = LinearRegression()"
      ],
      "metadata": {
        "id": "5zU9OY5qKxvE"
      },
      "execution_count": null,
      "outputs": []
    },
    {
      "cell_type": "markdown",
      "source": [
        "TRAIN MODEL"
      ],
      "metadata": {
        "id": "EhvDyaC9XrKv"
      }
    },
    {
      "cell_type": "code",
      "source": [
        "model.fit(x_train , y_train)"
      ],
      "metadata": {
        "id": "_V-bIawwXsor"
      },
      "execution_count": null,
      "outputs": []
    },
    {
      "cell_type": "code",
      "source": [
        "predict = model.predict(x_test)"
      ],
      "metadata": {
        "id": "2kwJd30javGP"
      },
      "execution_count": null,
      "outputs": []
    },
    {
      "cell_type": "code",
      "source": [
        "predict"
      ],
      "metadata": {
        "id": "OYbHNiKkbkaJ"
      },
      "execution_count": null,
      "outputs": []
    },
    {
      "cell_type": "code",
      "source": [
        "x_train.head(1)"
      ],
      "metadata": {
        "id": "K4pACmLhbpqW"
      },
      "execution_count": null,
      "outputs": []
    },
    {
      "cell_type": "code",
      "source": [
        "input_data_model = pd.DataFrame([[10,2015,10000,1,1,1,1,18.3,1991,147.9,5.0]]\n",
        "                                ,columns=[\"name\",\"year\",\"km_driven\",\"fuel\",\"seller_type\",\"transmission\",\"owner\",\"mileage\",\"engine\",\"max_power\",\"seats\"])"
      ],
      "metadata": {
        "id": "mYpjal96bza3"
      },
      "execution_count": null,
      "outputs": []
    },
    {
      "cell_type": "code",
      "source": [
        "model.predict(input_data_model)"
      ],
      "metadata": {
        "id": "qRU_3T7YfaTR"
      },
      "execution_count": null,
      "outputs": []
    },
    {
      "cell_type": "code",
      "source": [
        "import pickle as pk"
      ],
      "metadata": {
        "id": "pVyXg8e4fnkg"
      },
      "execution_count": null,
      "outputs": []
    },
    {
      "cell_type": "code",
      "source": [
        "pk.dump(model,open('model.pkl' , 'wb'))"
      ],
      "metadata": {
        "id": "XMfD12jsfqpP"
      },
      "execution_count": null,
      "outputs": []
    },
    {
      "cell_type": "code",
      "source": [
        "from google.colab import files\n",
        "files.download('model.pkl')"
      ],
      "metadata": {
        "id": "p97vJ20xionK"
      },
      "execution_count": null,
      "outputs": []
    },
    {
      "cell_type": "code",
      "source": [
        "import pandas as pd\n",
        "import numpy as np\n",
        "import pickle as pk\n",
        "import streamlit as st"
      ],
      "metadata": {
        "id": "wwN-kn9yiopr"
      },
      "execution_count": null,
      "outputs": []
    },
    {
      "cell_type": "code",
      "source": [
        "model = pk.load(open('model.pkl' , 'rb'))"
      ],
      "metadata": {
        "id": "6CsHmjr7izTf"
      },
      "execution_count": null,
      "outputs": []
    },
    {
      "cell_type": "code",
      "source": [
        "st.header('car Price Prediction Model')"
      ],
      "metadata": {
        "id": "VHoYd_dLjRx1",
        "colab": {
          "base_uri": "https://localhost:8080/",
          "height": 139
        },
        "outputId": "141cefee-8c76-4dca-da8b-f949e4abc23e"
      },
      "execution_count": 2,
      "outputs": [
        {
          "output_type": "error",
          "ename": "NameError",
          "evalue": "name 'st' is not defined",
          "traceback": [
            "\u001b[0;31m---------------------------------------------------------------------------\u001b[0m",
            "\u001b[0;31mNameError\u001b[0m                                 Traceback (most recent call last)",
            "\u001b[0;32m<ipython-input-2-f191f086d9ba>\u001b[0m in \u001b[0;36m<cell line: 0>\u001b[0;34m()\u001b[0m\n\u001b[0;32m----> 1\u001b[0;31m \u001b[0mst\u001b[0m\u001b[0;34m.\u001b[0m\u001b[0mheader\u001b[0m\u001b[0;34m(\u001b[0m\u001b[0;34m'car Price Prediction Model'\u001b[0m\u001b[0;34m)\u001b[0m\u001b[0;34m\u001b[0m\u001b[0;34m\u001b[0m\u001b[0m\n\u001b[0m",
            "\u001b[0;31mNameError\u001b[0m: name 'st' is not defined"
          ]
        }
      ]
    }
  ]
}